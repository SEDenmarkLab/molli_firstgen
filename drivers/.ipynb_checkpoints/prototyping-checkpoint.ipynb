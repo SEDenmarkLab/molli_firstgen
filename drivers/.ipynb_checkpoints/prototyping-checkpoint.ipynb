{
 "cells": [
  {
   "cell_type": "markdown",
   "id": "252257f8-265b-4215-8a1e-9983ab8d49f8",
   "metadata": {},
   "source": [
    "# This is testing distance measuring"
   ]
  },
  {
   "cell_type": "code",
   "execution_count": 1,
   "id": "496e2846-dab3-479d-9748-da2c4982cf1d",
   "metadata": {},
   "outputs": [
    {
     "name": "stdout",
     "output_type": "stream",
     "text": [
      "C    -0.835256   -0.124286    0.054673   -0.139567\n",
      "N    -2.316258   -0.272207    0.018655    0.576211\n",
      "C    -0.081071    1.025201   -0.002092    0.013190\n",
      "N    -0.030875   -1.261045    0.016992   -0.410236\n",
      "C     1.291664    0.573392   -0.015977    0.039734\n",
      "C    -0.456794    2.477511   -0.098135   -0.257649\n",
      "C     1.291729   -0.838526    0.019927    0.230430\n",
      "H    -0.298473   -2.179177    0.338366    0.348721\n",
      "C     2.518965    1.261007   -0.056336   -0.143119\n",
      "H    -1.501869    2.694937    0.135377    0.064889\n",
      "H    -0.256188    2.868917   -1.103465    0.114374\n",
      "H     0.150358    3.065443    0.598474    0.119538\n",
      "C     2.469069   -1.592737    0.046886   -0.256680\n",
      "C     3.691257    0.521210   -0.037139   -0.150428\n",
      "H     2.550806    2.345585   -0.098130    0.141353\n",
      "C     3.665603   -0.889328    0.018284   -0.055574\n",
      "H     2.452073   -2.678004    0.081986    0.159998\n",
      "H     4.648536    1.032136   -0.063820    0.142712\n",
      "H     4.602834   -1.436846    0.035428    0.133242\n",
      "C    -2.870165    0.364228   -1.245432   -0.349759\n",
      "C    -2.934992    0.381342    1.241437   -0.416765\n",
      "C    -2.739292   -1.723792    0.014409   -0.297133\n",
      "H    -3.955271    0.242960   -1.250492    0.140256\n",
      "H    -2.608024    1.419257   -1.255849    0.163437\n",
      "H    -2.420898   -0.139173   -2.101484    0.160911\n",
      "H    -2.675461    1.436815    1.251437    0.186381\n",
      "H    -4.018622    0.258124    1.192030    0.158150\n",
      "H    -2.531401   -0.106151    2.128813    0.168094\n",
      "H    -2.419369   -2.194236    0.945024    0.140290\n",
      "H    -2.300188   -2.221093   -0.850079    0.134755\n",
      "H    -3.826948   -1.755602   -0.049666    0.140243\n"
     ]
    }
   ],
   "source": [
    "import numpy as np\n",
    "import pandas as pd\n",
    "import io\n",
    "import scipy.spatial.distance as dist\n",
    "\n",
    "gridfile = '/home/nir2/prototyping/m/pm6_760.grid'\n",
    "espfile = '/home/nir2/prototyping/m/pm6_760.esp'\n",
    "\n",
    "with open(espfile,'r') as f:\n",
    "    espstr = f.read()\n",
    "\n",
    "trimesp = '\\n'.join(espstr.splitlines(keepends=False)[2:])\n",
    "\n",
    "print(trimesp)\n",
    "\n"
   ]
  },
  {
   "cell_type": "markdown",
   "id": "938d2225-bb10-40e5-8e68-27ed44b8e650",
   "metadata": {},
   "source": [
    "## This will take our trimmed esp file and generate numpy arrays for calculating potentials"
   ]
  },
  {
   "cell_type": "code",
   "execution_count": 3,
   "id": "4613adb7-0d37-4d1a-8aca-c98cee8bf215",
   "metadata": {
    "tags": []
   },
   "outputs": [
    {
     "name": "stdout",
     "output_type": "stream",
     "text": [
      "[[-8.352560e-01 -1.242860e-01  5.467300e-02]\n",
      " [-2.316258e+00 -2.722070e-01  1.865500e-02]\n",
      " [-8.107100e-02  1.025201e+00 -2.092000e-03]\n",
      " [-3.087500e-02 -1.261045e+00  1.699200e-02]\n",
      " [ 1.291664e+00  5.733920e-01 -1.597700e-02]\n",
      " [-4.567940e-01  2.477511e+00 -9.813500e-02]\n",
      " [ 1.291729e+00 -8.385260e-01  1.992700e-02]\n",
      " [-2.984730e-01 -2.179177e+00  3.383660e-01]\n",
      " [ 2.518965e+00  1.261007e+00 -5.633600e-02]\n",
      " [-1.501869e+00  2.694937e+00  1.353770e-01]\n",
      " [-2.561880e-01  2.868917e+00 -1.103465e+00]\n",
      " [ 1.503580e-01  3.065443e+00  5.984740e-01]\n",
      " [ 2.469069e+00 -1.592737e+00  4.688600e-02]\n",
      " [ 3.691257e+00  5.212100e-01 -3.713900e-02]\n",
      " [ 2.550806e+00  2.345585e+00 -9.813000e-02]\n",
      " [ 3.665603e+00 -8.893280e-01  1.828400e-02]\n",
      " [ 2.452073e+00 -2.678004e+00  8.198600e-02]\n",
      " [ 4.648536e+00  1.032136e+00 -6.382000e-02]\n",
      " [ 4.602834e+00 -1.436846e+00  3.542800e-02]\n",
      " [-2.870165e+00  3.642280e-01 -1.245432e+00]\n",
      " [-2.934992e+00  3.813420e-01  1.241437e+00]\n",
      " [-2.739292e+00 -1.723792e+00  1.440900e-02]\n",
      " [-3.955271e+00  2.429600e-01 -1.250492e+00]\n",
      " [-2.608024e+00  1.419257e+00 -1.255849e+00]\n",
      " [-2.420898e+00 -1.391730e-01 -2.101484e+00]\n",
      " [-2.675461e+00  1.436815e+00  1.251437e+00]\n",
      " [-4.018622e+00  2.581240e-01  1.192030e+00]\n",
      " [-2.531401e+00 -1.061510e-01  2.128813e+00]\n",
      " [-2.419369e+00 -2.194236e+00  9.450240e-01]\n",
      " [-2.300188e+00 -2.221093e+00 -8.500790e-01]\n",
      " [-3.826948e+00 -1.755602e+00 -4.966600e-02]] \n",
      " Number of atoms 31 \n",
      " Number of charges 31\n"
     ]
    }
   ],
   "source": [
    "esp_df = pd.read_csv(io.StringIO(trimesp),\n",
    "                    delim_whitespace=True,\n",
    "                    header=None,\n",
    "                    names=['x','y','z','chg'])\n",
    "cxyz_arr = esp_df[['x','y','z']].to_numpy()\n",
    "cchg_arr = esp_df['chg'].to_numpy()\n",
    "\n",
    "print(cxyz_arr,'\\n','Number of atoms',len(cxyz_arr),'\\n','Number of charges',len(cchg_arr))"
   ]
  },
  {
   "cell_type": "markdown",
   "id": "67e1fb3f-4c30-4a32-b241-822967ae7d26",
   "metadata": {},
   "source": [
    "# Now we have the esp file with atom positions and charges parsed"
   ]
  },
  {
   "cell_type": "code",
   "execution_count": 4,
   "id": "bd1e0807-5560-4d5c-af6f-b41271cd373e",
   "metadata": {},
   "outputs": [
    {
     "name": "stdout",
     "output_type": "stream",
     "text": [
      "[[-5.23193656 -1.75367383 -7.27824945]\n",
      " [-4.75950506 -1.75367383 -7.27824945]\n",
      " [-4.28707357 -1.75367383 -7.27824945]\n",
      " [-3.81464207 -1.75367383 -7.27824945]\n",
      " [-5.70436806 -1.28124233 -7.27824945]\n",
      " [-5.23193656 -1.28124233 -7.27824945]\n",
      " [-4.75950506 -1.28124233 -7.27824945]\n",
      " [-4.28707357 -1.28124233 -7.27824945]\n",
      " [-3.81464207 -1.28124233 -7.27824945]\n",
      " [-3.34221057 -1.28124233 -7.27824945]\n",
      " [-6.17679955 -0.80881084 -7.27824945]\n",
      " [-5.70436806 -0.80881084 -7.27824945]\n",
      " [-5.23193656 -0.80881084 -7.27824945]\n",
      " [-4.75950506 -0.80881084 -7.27824945]]\n",
      "[0.12553484 0.12605222 0.12564373 0.12427399 0.12591035 0.12734511\n",
      " 0.12794816 0.12751422 0.1260034  0.12356006 0.12489574 0.12699388\n",
      " 0.12851746 0.12916066]\n"
     ]
    }
   ],
   "source": [
    "with open(gridfile,'r') as f:\n",
    "    gridstr = f.read()\n",
    "\n",
    "trimgrid = '\\n'.join(gridstr.splitlines(keepends=False)[1:])\n",
    "\n",
    "grid_df = pd.read_csv(io.StringIO(trimgrid),\n",
    "                    delim_whitespace=True,\n",
    "                    header=None,\n",
    "                    names=['x','y','z','chg'])\n",
    "gxyz_arr = grid_df[['x','y','z']].to_numpy()\n",
    "gchg_arr = grid_df['chg'].to_numpy()\n",
    "\n",
    "print(gxyz_arr[:14])\n",
    "print(gchg_arr[:14])\n",
    "\n",
    "#print(trimgrid) # THIS IS REALLY LONG; UNCOMMENT TO CHECK"
   ]
  },
  {
   "cell_type": "code",
   "execution_count": 1,
   "id": "82f32895-c2df-4db9-b84f-1d0dd868840b",
   "metadata": {},
   "outputs": [
    {
     "ename": "NameError",
     "evalue": "name 'np' is not defined",
     "output_type": "error",
     "traceback": [
      "\u001b[0;31m---------------------------------------------------------------------------\u001b[0m",
      "\u001b[0;31mNameError\u001b[0m                                 Traceback (most recent call last)",
      "\u001b[0;32m/tmp/ipykernel_221364/2437674258.py\u001b[0m in \u001b[0;36m<module>\u001b[0;34m\u001b[0m\n\u001b[1;32m      1\u001b[0m \u001b[0;32mimport\u001b[0m \u001b[0mitertools\u001b[0m\u001b[0;34m\u001b[0m\u001b[0;34m\u001b[0m\u001b[0m\n\u001b[1;32m      2\u001b[0m \u001b[0;34m\u001b[0m\u001b[0m\n\u001b[0;32m----> 3\u001b[0;31m \u001b[0;32mfor\u001b[0m \u001b[0;34m(\u001b[0m\u001b[0mgridp\u001b[0m\u001b[0;34m,\u001b[0m\u001b[0mchrg\u001b[0m\u001b[0;34m)\u001b[0m\u001b[0;34m,\u001b[0m\u001b[0;34m(\u001b[0m\u001b[0matom\u001b[0m\u001b[0;34m,\u001b[0m\u001b[0mcharge\u001b[0m\u001b[0;34m)\u001b[0m \u001b[0;32min\u001b[0m \u001b[0mitertools\u001b[0m\u001b[0;34m.\u001b[0m\u001b[0mproduct\u001b[0m\u001b[0;34m(\u001b[0m\u001b[0mzip\u001b[0m\u001b[0;34m(\u001b[0m\u001b[0mnp\u001b[0m\u001b[0;34m.\u001b[0m\u001b[0mnditer\u001b[0m\u001b[0;34m(\u001b[0m\u001b[0mgxyz_arr\u001b[0m\u001b[0;34m)\u001b[0m\u001b[0;34m,\u001b[0m\u001b[0mnp\u001b[0m\u001b[0;34m.\u001b[0m\u001b[0mnditer\u001b[0m\u001b[0;34m(\u001b[0m\u001b[0mgchg_arr\u001b[0m\u001b[0;34m)\u001b[0m\u001b[0;34m)\u001b[0m\u001b[0;34m,\u001b[0m\u001b[0mzip\u001b[0m\u001b[0;34m(\u001b[0m\u001b[0mnp\u001b[0m\u001b[0;34m.\u001b[0m\u001b[0mnditer\u001b[0m\u001b[0;34m(\u001b[0m\u001b[0mcxyz_arr\u001b[0m\u001b[0;34m)\u001b[0m\u001b[0;34m,\u001b[0m\u001b[0mnp\u001b[0m\u001b[0;34m.\u001b[0m\u001b[0mnditer\u001b[0m\u001b[0;34m(\u001b[0m\u001b[0mcchg_arr\u001b[0m\u001b[0;34m)\u001b[0m\u001b[0;34m)\u001b[0m\u001b[0;34m)\u001b[0m\u001b[0;34m:\u001b[0m\u001b[0;34m\u001b[0m\u001b[0;34m\u001b[0m\u001b[0m\n\u001b[0m\u001b[1;32m      4\u001b[0m     \u001b[0mprint\u001b[0m\u001b[0;34m(\u001b[0m\u001b[0mgridp\u001b[0m\u001b[0;34m,\u001b[0m\u001b[0;34m'\\n'\u001b[0m\u001b[0;34m,\u001b[0m\u001b[0mchrg\u001b[0m\u001b[0;34m,\u001b[0m\u001b[0matom\u001b[0m\u001b[0;34m,\u001b[0m\u001b[0mcharge\u001b[0m\u001b[0;34m)\u001b[0m\u001b[0;34m\u001b[0m\u001b[0;34m\u001b[0m\u001b[0m\n\u001b[1;32m      5\u001b[0m \u001b[0;34m\u001b[0m\u001b[0m\n",
      "\u001b[0;31mNameError\u001b[0m: name 'np' is not defined"
     ]
    }
   ],
   "source": [
    "import itertools\n",
    "import numpy as np\n",
    "\n",
    "for (gridp,chrg),(atom,charge) in itertools.product(zip(np.nditer(gxyz_arr),np.nditer(gchg_arr)),zip(np.nditer(cxyz_arr),np.nditer(cchg_arr))):\n",
    "    print(gridp,'\\n',chrg,atom,charge)\n",
    "\n",
    "\n",
    "# for gridp,chrg in zip(np.nditer(gxyz_arr),np.nditer(gchg_arr)):\n",
    "#     for atom,charge in zip(np.nditer(cxyz_arr),np.nditer(cchg_arr)):\n"
   ]
  },
  {
   "cell_type": "code",
   "execution_count": null,
   "id": "ac835f55-613e-4e16-9578-5af78a877a36",
   "metadata": {},
   "outputs": [],
   "source": []
  }
 ],
 "metadata": {
  "kernelspec": {
   "display_name": "Python 3 (ipykernel)",
   "language": "python",
   "name": "python3"
  },
  "language_info": {
   "codemirror_mode": {
    "name": "ipython",
    "version": 3
   },
   "file_extension": ".py",
   "mimetype": "text/x-python",
   "name": "python",
   "nbconvert_exporter": "python",
   "pygments_lexer": "ipython3",
   "version": "3.9.5"
  }
 },
 "nbformat": 4,
 "nbformat_minor": 5
}
