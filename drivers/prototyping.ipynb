{
 "cells": [
  {
   "cell_type": "markdown",
   "id": "252257f8-265b-4215-8a1e-9983ab8d49f8",
   "metadata": {},
   "source": [
    "# This is testing distance measuring"
   ]
  },
  {
   "cell_type": "code",
   "execution_count": null,
   "id": "496e2846-dab3-479d-9748-da2c4982cf1d",
   "metadata": {},
   "outputs": [],
   "source": [
    "import numpy as np\n",
    "import pandas as pd\n",
    "import io\n",
    "import scipy.spatial.distance as dist\n",
    "\n",
    "def process_nwoutfile(nwoutfile,typ_):\n",
    "    \n",
    "\n",
    "\n",
    "\n",
    "\n"
   ]
  }
 ],
 "metadata": {
  "kernelspec": {
   "display_name": "Python 3 (ipykernel)",
   "language": "python",
   "name": "python3"
  },
  "language_info": {
   "codemirror_mode": {
    "name": "ipython",
    "version": 3
   },
   "file_extension": ".py",
   "mimetype": "text/x-python",
   "name": "python",
   "nbconvert_exporter": "python",
   "pygments_lexer": "ipython3",
   "version": "3.9.1"
  }
 },
 "nbformat": 4,
 "nbformat_minor": 5
}
